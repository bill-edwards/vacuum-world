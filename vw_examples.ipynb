{
 "cells": [
  {
   "cell_type": "code",
   "execution_count": null,
   "metadata": {
    "collapsed": true
   },
   "outputs": [],
   "source": [
    "import task_environment as te\n",
    "import environment as env\n",
    "import sensors\n",
    "import laws\n",
    "import performance_measures as pm\n",
    "\n",
    "import agents\n",
    "import problem as prob\n",
    "import search\n",
    "import heuristics\n",
    "\n",
    "import visualisation"
   ]
  },
  {
   "cell_type": "markdown",
   "metadata": {},
   "source": [
    "## Two-tile floor, reflex agents"
   ]
  },
  {
   "cell_type": "code",
   "execution_count": null,
   "metadata": {
    "collapsed": true
   },
   "outputs": [],
   "source": [
    "two_tile_floor = te.TaskEnvironment(\n",
    "    env.Floor({(0,0), (1,0)}),\n",
    "    laws.standard,\n",
    "    [sensors.dirt_detector, sensors.locator],\n",
    "    pm.penalise_dirt_and_movement\n",
    ")"
   ]
  },
  {
   "cell_type": "code",
   "execution_count": null,
   "metadata": {
    "collapsed": true
   },
   "outputs": [],
   "source": [
    "initial_state = two_tile_floor.environment.state()"
   ]
  },
  {
   "cell_type": "code",
   "execution_count": null,
   "metadata": {
    "collapsed": true
   },
   "outputs": [],
   "source": [
    "two_tile_rules = [\n",
    "    {\n",
    "        'condition': (lambda percepts: percepts[0]), # Dirt detected on current tile.\n",
    "        'action': 'SUCK'\n",
    "    },\n",
    "    {\n",
    "        'condition': (lambda percepts: percepts[1] == (0,0)),\n",
    "        'action': 'RIGHT'\n",
    "    },\n",
    "    {\n",
    "        'condition': (lambda percepts: percepts[1] == (1,0)),\n",
    "        'action': 'LEFT'\n",
    "    }\n",
    "]"
   ]
  },
  {
   "cell_type": "code",
   "execution_count": null,
   "metadata": {},
   "outputs": [],
   "source": [
    "print '\\nSimple Reflex Agent'\n",
    "history = te.History(two_tile_floor, agents.SimpleReflex(two_tile_rules), 5, initial_state)\n",
    "print '\\nPerformance score', history.performance_score"
   ]
  },
  {
   "cell_type": "markdown",
   "metadata": {},
   "source": [
    "## Fully observable environment, problem solvers"
   ]
  },
  {
   "cell_type": "code",
   "execution_count": null,
   "metadata": {
    "collapsed": true
   },
   "outputs": [],
   "source": [
    "square_floor = te.TaskEnvironment(\n",
    "    env.Floor(env.lay_square_floor(5)),\n",
    "    laws.standard,\n",
    "    [sensors.all_seeing_eye],\n",
    "    pm.penalise_dirt_and_movement\n",
    ")"
   ]
  },
  {
   "cell_type": "code",
   "execution_count": null,
   "metadata": {},
   "outputs": [],
   "source": [
    "# Initialise enviroment\n",
    "initial_state = square_floor.environment.state(vacuum_location=(0,0), dirty_tiles={(4,0), (4,2), (4,4), (3,4), (3,3), (2,2), (2,3), (2,4)})"
   ]
  },
  {
   "cell_type": "code",
   "execution_count": null,
   "metadata": {
    "collapsed": true
   },
   "outputs": [],
   "source": [
    "# Prepare problem-solving agent's internal model\n",
    "problem = prob.Problem(square_floor.environment, square_floor.state_transition_law)"
   ]
  },
  {
   "cell_type": "markdown",
   "metadata": {},
   "source": [
    "#### Breadth-first search"
   ]
  },
  {
   "cell_type": "code",
   "execution_count": null,
   "metadata": {},
   "outputs": [],
   "source": [
    "agent = agents.ProblemSolver(problem, search.breadth_first_graph_search)\n",
    "history = te.History(square_floor, agent, 30, initial_state)"
   ]
  },
  {
   "cell_type": "code",
   "execution_count": null,
   "metadata": {
    "collapsed": true
   },
   "outputs": [],
   "source": [
    "#visualisation.draw_history(square_floor.environment, history)"
   ]
  },
  {
   "cell_type": "markdown",
   "metadata": {},
   "source": [
    "#### Uniform-cost search"
   ]
  },
  {
   "cell_type": "code",
   "execution_count": null,
   "metadata": {},
   "outputs": [],
   "source": [
    "agent = agents.ProblemSolver(problem, search.uniform_cost_graph_search())\n",
    "history = te.History(square_floor, agent, 30, initial_state)"
   ]
  },
  {
   "cell_type": "code",
   "execution_count": null,
   "metadata": {
    "collapsed": true
   },
   "outputs": [],
   "source": [
    "#visualisation.draw_history(square_floor.environment, history)"
   ]
  },
  {
   "cell_type": "markdown",
   "metadata": {},
   "source": [
    "#### A* search (heuristic)"
   ]
  },
  {
   "cell_type": "code",
   "execution_count": null,
   "metadata": {},
   "outputs": [],
   "source": [
    "agent = agents.ProblemSolver(problem, search.a_star_search(heuristics.count_dirty_tiles))\n",
    "history = te.History(square_floor, agent, 30, initial_state)"
   ]
  },
  {
   "cell_type": "code",
   "execution_count": null,
   "metadata": {
    "collapsed": true
   },
   "outputs": [],
   "source": [
    "visualisation.draw_history(square_floor.environment, history)"
   ]
  }
 ],
 "metadata": {
  "kernelspec": {
   "display_name": "Python 2",
   "language": "python",
   "name": "python2"
  },
  "language_info": {
   "codemirror_mode": {
    "name": "ipython",
    "version": 2
   },
   "file_extension": ".py",
   "mimetype": "text/x-python",
   "name": "python",
   "nbconvert_exporter": "python",
   "pygments_lexer": "ipython2",
   "version": "2.7.10"
  }
 },
 "nbformat": 4,
 "nbformat_minor": 2
}
